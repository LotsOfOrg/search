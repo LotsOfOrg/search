{
 "cells": [
  {
   "cell_type": "markdown",
   "metadata": {},
   "source": [
    "# Core Search Types\n",
    "\n",
    "> Core types and interfaces for building a personal search engine"
   ]
  },
  {
   "cell_type": "markdown",
   "metadata": {},
   "source": [
    "This module provides the fundamental building blocks for creating a personal search engine:\n",
    "- `Document`: Represents any searchable content\n",
    "- `SearchResult`: Represents a matched document with relevance info\n",
    "- `Query`: Encapsulates search parameters and preferences\n",
    "- `Index`: Base class for different indexing strategies"
   ]
  },
  {
   "cell_type": "code",
   "execution_count": null,
   "metadata": {},
   "outputs": [],
   "source": [
    "#| default_exp core\n",
    "\n",
    "#| export\n",
    "from fastcore.basics import *\n",
    "from fastcore.foundation import *\n",
    "from fastcore.test import *\n",
    "from datetime import datetime\n",
    "from typing import Optional"
   ]
  },
  {
   "cell_type": "code",
   "execution_count": null,
   "metadata": {},
   "outputs": [],
   "source": [
    "#| hide\n",
    "from nbdev.showdoc import *"
   ]
  },
  {
   "cell_type": "code",
   "execution_count": null,
   "metadata": {},
   "outputs": [],
   "source": [
    "#| export\n",
    "class Document:\n",
    "    \"\"\"A searchable document with content and metadata\n",
    "    \n",
    "    A Document represents any piece of content that can be indexed and searched. This could be:\n",
    "    - A web page\n",
    "    - A local file\n",
    "    - An email\n",
    "    - A note or document\n",
    "    \"\"\"\n",
    "    def __init__(self, \n",
    "                 id:str,                      # Unique identifier for the document\n",
    "                 content:str,                 # The main content of the document\n",
    "                 metadata:dict[str,any]=None, # Flexible metadata storage\n",
    "                 created_at:datetime=None,    # When the document was created\n",
    "                 source:str=None              # Where this document came from\n",
    "                ):\n",
    "        store_attr()\n",
    "        if metadata is None: self.metadata = {}\n",
    "        if created_at is None: self.created_at = datetime.now()\n",
    "    \n",
    "    def __repr__(self): return f\"Document(id={self.id}, source={self.source})\"\n",
    "    \n",
    "    @property\n",
    "    def summary(self) -> str:\n",
    "        \"Returns a brief summary of the document content\"\n",
    "        return self.content[:100] + \"...\" if len(self.content) > 100 else self.content"
   ]
  },
  {
   "cell_type": "code",
   "execution_count": null,
   "metadata": {},
   "outputs": [],
   "source": [
    "# Examples of Document usage\n",
    "doc1 = Document(id=\"email_1\", \n",
    "                content=\"Meeting scheduled for tomorrow at 2pm\",\n",
    "                metadata={\"type\": \"email\", \"from\": \"alice@example.com\"},\n",
    "                source=\"outlook\")\n",
    "doc2 = Document(id=\"webpage_1\",\n",
    "                content=\"FastAI is a deep learning library\",\n",
    "                metadata={\"url\": \"fast.ai\", \"type\": \"webpage\"},\n",
    "                source=\"web\")\n",
    "\n",
    "test_eq(doc1.metadata[\"type\"], \"email\")\n",
    "test_eq(doc2.source, \"web\")"
   ]
  },
  {
   "cell_type": "code",
   "execution_count": null,
   "metadata": {},
   "outputs": [],
   "source": [
    "long_doc = Document(id=\"2\", content=\"x\"*200)\n",
    "test_eq(len(long_doc.summary), 103)  # 100 chars + \"...\""
   ]
  },
  {
   "cell_type": "code",
   "execution_count": null,
   "metadata": {},
   "outputs": [],
   "source": [
    "#| export\n",
    "class SearchResult:\n",
    "    \"\"\"A document match with relevance information\n",
    "    \n",
    "    SearchResult objects are returned by Index implementations to represent matches,\n",
    "    including:\n",
    "    - The matched document\n",
    "    - A relevance score (higher is better)\n",
    "    - Optional highlighted snippets showing match context\n",
    "    \"\"\"\n",
    "    def __init__(self,\n",
    "                 document:Document,          # The document that matched\n",
    "                 score:float,                # Relevance score\n",
    "                 highlights:list[str]=None   # Highlighted snippets from the document\n",
    "                ):\n",
    "        store_attr()\n",
    "        if highlights is None: self.highlights = []\n",
    "    \n",
    "    def __repr__(self): return f\"SearchResult(doc={self.document.id}, score={self.score:.3f})\"\n",
    "    \n",
    "    @property\n",
    "    def best_highlight(self) -> Optional[str]:\n",
    "        \"Returns the most relevant highlight if available\"\n",
    "        return self.highlights[0] if self.highlights else None"
   ]
  },
  {
   "cell_type": "code",
   "execution_count": null,
   "metadata": {},
   "outputs": [],
   "source": [
    "# Example of SearchResult usage\n",
    "result = SearchResult(\n",
    "    document=doc1,\n",
    "    score=0.85,\n",
    "    highlights=[\"Meeting scheduled for tomorrow\", \"2pm\"]\n",
    ")\n",
    "test_eq(result.score, 0.85)\n",
    "test_eq(result.best_highlight, \"Meeting scheduled for tomorrow\")"
   ]
  },
  {
   "cell_type": "code",
   "execution_count": null,
   "metadata": {},
   "outputs": [],
   "source": [
    "#| export\n",
    "class Query:\n",
    "    \"\"\"A search request with filters and preferences\n",
    "    \n",
    "    Query objects encapsulate all parameters for a search request:\n",
    "    - Search text (what to look for)\n",
    "    - Filters (metadata constraints)\n",
    "    - Boost factors (field importance weights)\n",
    "    \"\"\"\n",
    "    def __init__(self,\n",
    "                 text:str,                   # The search text\n",
    "                 filters:dict[str,any]=None, # Metadata filters to apply\n",
    "                 boost:dict[str,float]=None  # Boost factors for specific fields\n",
    "                ):\n",
    "        store_attr()\n",
    "        if filters is None: self.filters = {}\n",
    "        if boost is None: self.boost = {}\n",
    "    \n",
    "    def __repr__(self): return f\"Query(text='{self.text}')\""
   ]
  },
  {
   "cell_type": "code",
   "execution_count": null,
   "metadata": {},
   "outputs": [],
   "source": [
    "# Example of Query usage\n",
    "query = Query(\n",
    "    text=\"meeting tomorrow\",\n",
    "    filters={\"type\": \"email\"},\n",
    "    boost={\"subject\": 2.0, \"content\": 1.0}\n",
    ")\n",
    "test_eq(query.text, \"meeting tomorrow\")\n",
    "test_eq(query.filters[\"type\"], \"email\")"
   ]
  },
  {
   "cell_type": "code",
   "execution_count": null,
   "metadata": {},
   "outputs": [],
   "source": [
    "#| export\n",
    "class Index:\n",
    "    \"\"\"Base class for all index implementations\n",
    "    \n",
    "    This abstract base class defines the interface that all index implementations\n",
    "    must provide. Implementations might include:\n",
    "    - Inverted index for text search\n",
    "    - Vector index for semantic search\n",
    "    - Graph index for relationship-based search\n",
    "    \"\"\"\n",
    "    def __init__(self): pass\n",
    "    \n",
    "    def add(self, doc:Document):\n",
    "        \"Add a document to the index\"\n",
    "        raise NotImplementedError\n",
    "    \n",
    "    def remove(self, doc_id:str):\n",
    "        \"Remove a document from the index\"\n",
    "        raise NotImplementedError\n",
    "    \n",
    "    def search(self, query:Query) -> list[SearchResult]:\n",
    "        \"Search the index with the given query\"\n",
    "        raise NotImplementedError\n",
    "    \n",
    "    def clear(self):\n",
    "        \"Clear all documents from the index\"\n",
    "        raise NotImplementedError\n",
    "\n",
    "# Concrete Index classes implemented in 01_indexes.ipynb"
   ]
  },
  {
   "cell_type": "code",
   "execution_count": null,
   "metadata": {},
   "outputs": [],
   "source": [
    "#| hide\n",
    "import nbdev; nbdev.nbdev_export()"
   ]
  }
 ],
 "metadata": {
  "kernelspec": {
   "display_name": "python3",
   "language": "python",
   "name": "python3"
  }
 },
 "nbformat": 4,
 "nbformat_minor": 4
}
