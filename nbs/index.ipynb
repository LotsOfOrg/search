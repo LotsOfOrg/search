{
 "cells": [
  {
   "cell_type": "code",
   "execution_count": null,
   "metadata": {},
   "outputs": [],
   "source": [
    "#| hide\n",
    "from search.core import *"
   ]
  },
  {
   "cell_type": "markdown",
   "metadata": {},
   "source": [
    "# search\n",
    "\n",
    "> An individual search client"
   ]
  },
  {
   "cell_type": "markdown",
   "metadata": {},
   "source": [
    "This file will become your README and also the index of your documentation."
   ]
  },
  {
   "cell_type": "markdown",
   "metadata": {},
   "source": [
    "## Developer Guide"
   ]
  },
  {
   "cell_type": "markdown",
   "metadata": {},
   "source": [
    "If you are new to using `nbdev` here are some useful pointers to get you started."
   ]
  },
  {
   "cell_type": "markdown",
   "metadata": {},
   "source": [
    "### Install search in Development mode"
   ]
  },
  {
   "cell_type": "markdown",
   "metadata": {},
   "source": [
    "```sh\n",
    "# make sure search package is installed in development mode\n",
    "$ pip install -e .\n",
    "\n",
    "# make changes under nbs/ directory\n",
    "# ...\n",
    "\n",
    "# compile to have changes apply to search\n",
    "$ nbdev_prepare\n",
    "```"
   ]
  },
  {
   "cell_type": "markdown",
   "metadata": {},
   "source": [
    "## Usage"
   ]
  },
  {
   "cell_type": "markdown",
   "metadata": {},
   "source": [
    "### Installation"
   ]
  },
  {
   "cell_type": "markdown",
   "metadata": {},
   "source": [
    "Install latest from the GitHub [repository][repo]:\n",
    "\n",
    "```sh\n",
    "$ pip install git+https://github.com/LotsOfOrg/search.git\n",
    "```\n",
    "\n",
    "or from [conda][conda]\n",
    "\n",
    "```sh\n",
    "$ conda install -c LotsOfOrg search\n",
    "```\n",
    "\n",
    "or from [pypi][pypi]\n",
    "\n",
    "\n",
    "```sh\n",
    "$ pip install search\n",
    "```\n",
    "\n",
    "\n",
    "[repo]: https://github.com/LotsOfOrg/search\n",
    "[docs]: https://LotsOfOrg.github.io/search/\n",
    "[pypi]: https://pypi.org/project/search/\n",
    "[conda]: https://anaconda.org/LotsOfOrg/search"
   ]
  },
  {
   "cell_type": "markdown",
   "metadata": {},
   "source": [
    "### Documentation"
   ]
  },
  {
   "cell_type": "markdown",
   "metadata": {},
   "source": [
    "Documentation can be found hosted on this GitHub [repository][repo]'s [pages][docs]. Additionally you can find package manager specific guidelines on [conda][conda] and [pypi][pypi] respectively.\n",
    "\n",
    "[repo]: https://github.com/LotsOfOrg/search\n",
    "[docs]: https://LotsOfOrg.github.io/search/\n",
    "[pypi]: https://pypi.org/project/search/\n",
    "[conda]: https://anaconda.org/LotsOfOrg/search"
   ]
  },
  {
   "cell_type": "markdown",
   "metadata": {},
   "source": [
    "## How to use"
   ]
  },
  {
   "cell_type": "markdown",
   "metadata": {},
   "source": [
    "### Basic Usage"
   ]
  },
  {
   "cell_type": "code",
   "execution_count": null,
   "metadata": {},
   "outputs": [],
   "source": [
    "from search.core import Document, Query, SearchResult\n",
    "\n",
    "# Create a document\n",
    "doc = Document(\n",
    "    id=\"example-1\",\n",
    "    content=\"This is an example document about personal search\",\n",
    "    metadata={\"type\": \"tutorial\"},\n",
    "    source=\"documentation\"\n",
    ")\n",
    "\n",
    "# Create a search query\n",
    "query = Query(\n",
    "    text=\"personal search\",\n",
    "    filters={\"type\": \"tutorial\"},\n",
    "    boost={\"title\": 2.0}  # Boost matches in title fields\n",
    ")"
   ]
  },
  {
   "cell_type": "markdown",
   "metadata": {},
   "source": [
    "### Creating Custom Indexes\n",
    "THe library provides a flexible base `Index` class that you can extend for different search needs:"
   ]
  },
  {
   "cell_type": "code",
   "execution_count": null,
   "metadata": {},
   "outputs": [],
   "source": [
    "from search.core import Index\n",
    "\n",
    "class MyCustomIndex(Index):\n",
    "    def add(self, doc):\n",
    "        # Implementation for adding documents\n",
    "        pass\n",
    "    \n",
    "    def search(self, query):\n",
    "        # Implementation for searching\n",
    "        pass"
   ]
  },
  {
   "cell_type": "markdown",
   "metadata": {},
   "source": [
    "## Features\n",
    "### Multiple Search Types\n",
    "- Full-text search for documents and notes\n",
    "- Vector search for semantic similarity\n",
    "- Metadata search for file properties and tags\n",
    "- Structured data search for databases and APIs\n",
    "\n",
    "### Customizable Ranking\n",
    "- Downrank or blacklist unwanted sources\n",
    "- Boost preferred sites and sources\n",
    "- Context-aware result prioritization\n",
    "\n",
    "### Private Data Support\n",
    "- Search authentication-protected content\n",
    "- Index personal data stores\n",
    "- Maintain privacy of sensitive information\n",
    "\n",
    "## Documentation\n",
    "For more detailed information, visit our documentation site.\n",
    "\n",
    "The library includes several key components:\n",
    "\n",
    "1. `Document`: Represents searchable content with metadata\n",
    "2. `Query`: Defines search parameters and filters\n",
    "3. `SearchResult`: Contains search matches with relevance scores\n",
    "4. `Index`: Base class for implementing different search indexes\n",
    "\n",
    "## Contributing\n",
    "PRs are welcome! Please make sure to:\n",
    "\n",
    "1. Add tests for new functionality\n",
    "2. Update documentation\n",
    "3. Run nbdev_prepare before committing\n"
   ]
  }
 ],
 "metadata": {
  "kernelspec": {
   "display_name": "python3",
   "language": "python",
   "name": "python3"
  }
 },
 "nbformat": 4,
 "nbformat_minor": 4
}
